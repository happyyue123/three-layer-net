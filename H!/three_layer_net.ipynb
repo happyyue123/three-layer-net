{
 "cells": [
  {
   "cell_type": "code",
   "execution_count": null,
   "metadata": {},
   "outputs": [],
   "source": [
    "%load_ext autoreload\n",
    "%autoreload 2"
   ]
  },
  {
   "cell_type": "code",
   "execution_count": null,
   "metadata": {},
   "outputs": [],
   "source": [
    "from google.colab import drive\n",
    "drive.mount('/content/drive')"
   ]
  },
  {
   "cell_type": "code",
   "execution_count": null,
   "metadata": {},
   "outputs": [],
   "source": [
    "import os\n",
    "\n",
    "# TODO: Fill in the Google Drive path where you uploaded the assignment\n",
    "# Example: If you create a 2020FA folder and put all the files under A2 folder, then '2020FA/A2'\n",
    "# GOOGLE_DRIVE_PATH_AFTER_MYDRIVE = '2020FA/A2'\n",
    "GOOGLE_DRIVE_PATH_AFTER_MYDRIVE = 'EECS/H!'\n",
    "GOOGLE_DRIVE_PATH = os.path.join('drive', 'My Drive', GOOGLE_DRIVE_PATH_AFTER_MYDRIVE)\n",
    "print(os.listdir(GOOGLE_DRIVE_PATH))"
   ]
  },
  {
   "cell_type": "code",
   "execution_count": null,
   "metadata": {},
   "outputs": [],
   "source": [
    "import eecs598\n",
    "import torch\n",
    "import matplotlib.pyplot as plt\n",
    "import statistics\n",
    "import random\n",
    "import time\n",
    "%matplotlib inline\n",
    "\n",
    "\n",
    "plt.rcParams['figure.figsize'] = (10.0, 8.0)\n",
    "plt.rcParams['font.size'] = 16\n",
    "plt.rcParams['image.interpolation'] = 'nearest'\n",
    "plt.rcParams['image.cmap'] = 'gray'"
   ]
  },
  {
   "cell_type": "code",
   "execution_count": null,
   "metadata": {},
   "outputs": [],
   "source": [
    "if torch.cuda.is_available:\n",
    "  print('Good to go!')\n",
    "else:\n",
    "  print('Please set GPU via Edit -> Notebook Settings.')"
   ]
  },
  {
   "cell_type": "code",
   "execution_count": null,
   "metadata": {},
   "outputs": [],
   "source": [
    "import sys\n",
    "sys.path.append(GOOGLE_DRIVE_PATH)\n",
    "\n",
    "import time, os\n",
    "os.environ[\"TZ\"] = \"US/Eastern\"\n",
    "time.tzset()\n",
    "\n",
    "from three_layer_net import hello_three_layer_net\n",
    "hello_three_layer_net()\n",
    "\n",
    "\n",
    "three_layer_net_path = os.path.join(GOOGLE_DRIVE_PATH, 'three_layer_net.py')\n",
    "three_layer_net_edit_time = time.ctime(os.path.getmtime(three_layer_net_path))\n",
    "print('two_layer_net.py last edited on %s' % three_layer_net_edit_time)"
   ]
  },
  {
   "cell_type": "markdown",
   "metadata": {},
   "source": [
    "# 加载数据集"
   ]
  },
  {
   "cell_type": "code",
   "execution_count": null,
   "metadata": {},
   "outputs": [],
   "source": [
    "!git clone https://github.com/zalandoresearch/fashion-mnist.git\n",
    "import sys\n",
    "sys.path.insert(0, '/content/fashion-mnist/utils')\n",
    "import mnist_reader\n",
    "X_train, y_train = mnist_reader.load_mnist('/content/fashion-mnist/data/fashion', kind='train')\n",
    "X_test, y_test = mnist_reader.load_mnist('/content/fashion-mnist/data/fashion', kind='t10k')\n",
    "print('train data shapes:', X_train.shape)\n",
    "print('train labels shape', y_train)\n",
    "print('test data shapes:', X_test.shape)\n",
    "print('test labels shape', y_test)"
   ]
  },
  {
   "cell_type": "markdown",
   "metadata": {},
   "source": [
    "# 训练神经网络"
   ]
  },
  {
   "cell_type": "code",
   "execution_count": null,
   "metadata": {},
   "outputs": [],
   "source": [
    "from three_layer_net import ThreeLayerNet\n",
    "\n",
    "input_size = 3 * 32 * 32\n",
    "hidden_size1 = 128\n",
    "hidden_size2 = 36\n",
    "num_classes = 10\n",
    "\n",
    "# fix random seed before we generate a set of parameters\n",
    "\n",
    "net = ThreeLayerNet(input_size, hidden_size1, hidden_size2, num_classes, dtype=X_train.dtype, device=X_train.device)\n",
    "\n",
    "# Train the network\n",
    "stats = net.train(X_train, y_train,\n",
    "                  X_train, y_train,\n",
    "                  num_iters=500, batch_size=1000,\n",
    "                  learning_rate=1, learning_rate_decay=0.95,\n",
    "                  reg=0, verbose=True)\n",
    "\n",
    "# Predict on the validation set\n",
    "y_val_pred = net.predict(X_train)\n",
    "val_acc = 100.0 * (y_val_pred == y_train).double().mean().item()\n",
    "print('Validation accuracy: %.2f%%' % val_acc)"
   ]
  },
  {
   "cell_type": "markdown",
   "metadata": {},
   "source": [
    "# 参数优化"
   ]
  },
  {
   "cell_type": "code",
   "execution_count": null,
   "metadata": {},
   "outputs": [],
   "source": [
    "import torch\n",
    "import matplotlib.pyplot as plt\n",
    "from three_layer_net import ThreeLayerNet\n",
    "hidden_sizes1 = [128,256]\n",
    "hidden_sizes2 = [16, 32, 64] \n",
    "lr = 0.1\n",
    "reg = 0.001\n",
    "\n",
    "stat_dict = {}\n",
    "for hs1 in hidden_sizes1:\n",
    "    print('train with hidden size1: {}'.format(hs1))\n",
    "    # 设置随机数种子\n",
    "    torch.manual_seed(0)\n",
    "    net = ThreeLayerNet(input_size, hs1, hidden_size2, num_classes, dtype=X_train.dtype, device=X_train.device)\n",
    "    stats = net.train(X_train, y_train, X_train, y_train,\n",
    "            num_iters=3000, batch_size=1000,\n",
    "            learning_rate=lr, learning_rate_decay=0.95,\n",
    "            reg=reg, verbose=False)\n",
    "    stat_dict[hs1] = stats\n",
    "\n",
    "# 绘制图像\n",
    "# stats 是一个字典，储存loss值，绘制X_train准确性\n",
    "\n",
    "\n",
    "# 假设 stat_dict 是你的统计数据字典\n",
    "# 键 (key) 是隐藏层的大小，值 (value) 是相关的训练统计数据\n",
    "\n",
    "# 创建图和轴\n",
    "plt.figure(figsize=(10, 8))\n",
    "\n",
    "# 遍历每个隐藏层大小的统计数据\n",
    "for hs1, stats in stat_dict.items():\n",
    "    train_acc_history = stats['train_acc_history']  # 提取训练精度历史\n",
    "    iterations = list(range(len(train_acc_history)))  # 生成迭代次数列表\n",
    "\n",
    "    # 绘制每个隐藏层大小的训练精度历史\n",
    "    plt.plot(iterations, train_acc_history, label=f'HS={hs1}')\n",
    "\n",
    "# 添加图例\n",
    "plt.legend()\n",
    "\n",
    "# 添加标题和轴标签\n",
    "plt.title('Training Accuracy')\n",
    "plt.xlabel('Iterations')\n",
    "plt.ylabel('Training Accuracy')\n",
    "\n",
    "# 显示图形\n",
    "plt.show()\n"
   ]
  },
  {
   "cell_type": "code",
   "execution_count": null,
   "metadata": {},
   "outputs": [],
   "source": [
    "import torch\n",
    "from three_layer_net import ThreeLayerNet\n",
    "\n",
    "hs1 = 128\n",
    "hidden_sizes2 = [16, 32, 64] \n",
    "lr = 0.1\n",
    "reg = 0.001\n",
    "\n",
    "stat_dict = {}\n",
    "for hs2 in hidden_sizes2:\n",
    "    print('train with hidden size1: {}'.format(hs2))\n",
    "    # 设置随机数种子\n",
    "    torch.manual_seed(0)\n",
    "    net = ThreeLayerNet(input_size, hs1, hs2, num_classes, dtype=X_train.dtype, device=X_train.device)\n",
    "    stats = net.train(X_train, y_train, X_train, y_train,\n",
    "            num_iters=3000, batch_size=1000,\n",
    "            learning_rate=lr, learning_rate_decay=0.95,\n",
    "            reg=reg, verbose=False)\n",
    "    stat_dict[hs1] = stats\n",
    "\n",
    "    # 绘制图像"
   ]
  },
  {
   "cell_type": "code",
   "execution_count": null,
   "metadata": {},
   "outputs": [],
   "source": [
    "import torch\n",
    "from three_layer_net import ThreeLayerNet\n",
    "\n",
    "hs1 = 128\n",
    "hs2 = 32\n",
    "lrs = [1e-4, 1e-2, 1e-0, 1e2]\n",
    "reg = 0.001\n",
    "\n",
    "stat_dict = {}\n",
    "for lr in lrs:\n",
    "    print('train with hidden size1: {}'.format(hs2))\n",
    "    # 设置随机数种子\n",
    "    torch.manual_seed(0)\n",
    "    net = ThreeLayerNet(input_size, hs1, hs2, num_classes, dtype=X_train.dtype, device=X_train.device)\n",
    "    stats = net.train(X_train, y_train, X_train, y_train,\n",
    "            num_iters=3000, batch_size=1000,\n",
    "            learning_rate=lr, learning_rate_decay=0.95,\n",
    "            reg=reg, verbose=False)\n",
    "    stat_dict[hs1] = stats\n"
   ]
  },
  {
   "cell_type": "code",
   "execution_count": null,
   "metadata": {},
   "outputs": [],
   "source": [
    "import torch\n",
    "from three_layer_net import ThreeLayerNet\n",
    "\n",
    "hs1 = 128\n",
    "hs2 = 32\n",
    "lr = 1\n",
    "regs = [0, 1e-5, 1e-3, 1e-1]\n",
    "\n",
    "stat_dict = {}\n",
    "for reg in regs:\n",
    "    print('train with hidden size1: {}'.format(hs2))\n",
    "    # 设置随机数种子\n",
    "    torch.manual_seed(0)\n",
    "    net = ThreeLayerNet(input_size, hs1, hs2, num_classes, dtype=X_train.dtype, device=X_train.device)\n",
    "    stats = net.train(X_train, y_train, X_train, y_train,\n",
    "            num_iters=3000, batch_size=1000,\n",
    "            learning_rate=lr, learning_rate_decay=0.95,\n",
    "            reg=reg, verbose=False)\n",
    "    stat_dict[hs1] = stats\n",
    "    "
   ]
  },
  {
   "cell_type": "markdown",
   "metadata": {},
   "source": [
    "# 测试集"
   ]
  },
  {
   "cell_type": "code",
   "execution_count": null,
   "metadata": {},
   "outputs": [],
   "source": [
    "y_pred = net.predict(X_test)\n",
    "y_accurancy = 100* (y_pred == y_test).double().mean().item()\n",
    "print('Validation accuracy: %.2f%%' % y_accurancy)"
   ]
  }
 ],
 "metadata": {
  "language_info": {
   "name": "python"
  }
 },
 "nbformat": 4,
 "nbformat_minor": 2
}
